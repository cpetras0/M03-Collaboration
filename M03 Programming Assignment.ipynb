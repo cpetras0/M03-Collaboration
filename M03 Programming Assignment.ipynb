{
 "cells": [
  {
   "cell_type": "code",
   "execution_count": 1,
   "id": "9841d4d5-4881-43ba-9c1a-59270b92d729",
   "metadata": {},
   "outputs": [],
   "source": [
    "# 7.4 Make a list called things with these three strings as elements \"mozzarella\", \"cinderella\", \"salmonella\"\n",
    "things = [\"mozzarella\", \"cinderella\", \"salmonella\"]"
   ]
  },
  {
   "cell_type": "code",
   "execution_count": 2,
   "id": "706c0a21-8417-4583-b51f-2ccb70f3d57f",
   "metadata": {},
   "outputs": [
    {
     "name": "stdout",
     "output_type": "stream",
     "text": [
      "['mozzarella', 'Cinderella', 'salmonella']\n"
     ]
    }
   ],
   "source": [
    "# 7.5 Capitalize the element in things that refers to a person, then print the list\n",
    "things[1] = things[1].capitalize()\n",
    "print(things)"
   ]
  },
  {
   "cell_type": "code",
   "execution_count": 3,
   "id": "8aff8c94-6b89-4e0f-b353-8aaf4da8c678",
   "metadata": {},
   "outputs": [],
   "source": [
    "# 7.5 cont. \n",
    "# The only change capitalizing the person was that it capitalized the name, nothing else was changed in the list"
   ]
  },
  {
   "cell_type": "code",
   "execution_count": 4,
   "id": "5bca143a-dcd0-4494-9b07-fc70d6421ae7",
   "metadata": {},
   "outputs": [
    {
     "name": "stdout",
     "output_type": "stream",
     "text": [
      "['MOZZARELLA', 'Cinderella', 'salmonella']\n"
     ]
    }
   ],
   "source": [
    "# 7.6 Make the cheese element of things all uppercase then print the list\n",
    "things[0]=things[0].upper()\n",
    "print(things)"
   ]
  },
  {
   "cell_type": "code",
   "execution_count": 5,
   "id": "1147c068-7c1e-431c-9b16-33b8c987a51c",
   "metadata": {},
   "outputs": [
    {
     "name": "stdout",
     "output_type": "stream",
     "text": [
      "['MOZZARELLA', 'Cinderella']\n"
     ]
    }
   ],
   "source": [
    "# 7.7 Delete the disease element from things, collect your Nobel Prize, and print the lsit\n",
    "things.remove(\"salmonella\")\n",
    "\n",
    "# Collecting Nobel Prize\n",
    "\n",
    "print(things)"
   ]
  },
  {
   "cell_type": "code",
   "execution_count": 8,
   "id": "bfbd108b-0ab0-4519-8b3b-1979a3534309",
   "metadata": {},
   "outputs": [],
   "source": [
    "# 9.1 define a function called good() that returns the following list: \n",
    "# ['Harry', 'Ron', 'Hermione']\n",
    "def good():\n",
    "    good_list = [\"Harry\", \"Ron\", \"Hermione\"]"
   ]
  },
  {
   "cell_type": "code",
   "execution_count": 4,
   "id": "9fa5a284-7227-4727-bc0c-ea0e1e95a4ce",
   "metadata": {},
   "outputs": [
    {
     "name": "stdout",
     "output_type": "stream",
     "text": [
      "5\n"
     ]
    }
   ],
   "source": [
    "# 9.2 Define a generator Function called get_odds() that returns the odd numbers\n",
    "# from range(10). Use a for loop to find and print the third value returned\n",
    "\n",
    "def get_odds():\n",
    "    for num in range(10):\n",
    "        if num % 2 !=0:\n",
    "            yield num\n",
    "\n",
    "count = 0\n",
    "for odd in get_odds():\n",
    "    count +=1\n",
    "    if count == 3:\n",
    "        print(odd)\n",
    "        break"
   ]
  }
 ],
 "metadata": {
  "kernelspec": {
   "display_name": "Python 3 (ipykernel)",
   "language": "python",
   "name": "python3"
  },
  "language_info": {
   "codemirror_mode": {
    "name": "ipython",
    "version": 3
   },
   "file_extension": ".py",
   "mimetype": "text/x-python",
   "name": "python",
   "nbconvert_exporter": "python",
   "pygments_lexer": "ipython3",
   "version": "3.11.7"
  }
 },
 "nbformat": 4,
 "nbformat_minor": 5
}
